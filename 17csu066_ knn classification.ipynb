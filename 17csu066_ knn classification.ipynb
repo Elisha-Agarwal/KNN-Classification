{
 "cells": [
  {
   "cell_type": "markdown",
   "metadata": {},
   "source": [
    "# K Nearest Neighbors with Python\n",
    "\n"
   ]
  },
  {
   "cell_type": "markdown",
   "metadata": {},
   "source": [
    "## Import Libraries\n",
    "\n"
   ]
  },
  {
   "cell_type": "code",
   "execution_count": 41,
   "metadata": {},
   "outputs": [],
   "source": [
    "import pandas as pd\n",
    "import seaborn as sns\n",
    "import matplotlib.pyplot as plt\n",
    "import numpy as np\n",
    "%matplotlib inline"
   ]
  },
  {
   "cell_type": "markdown",
   "metadata": {},
   "source": [
    "## Get the Data\n",
    "\n",
    "Set index_col=0 to use the first column as the index."
   ]
  },
  {
   "cell_type": "code",
   "execution_count": 55,
   "metadata": {},
   "outputs": [],
   "source": [
    "df = pd.read_csv(\"prostate.csv\",index_col=0)"
   ]
  },
  {
   "cell_type": "code",
   "execution_count": 56,
   "metadata": {},
   "outputs": [
    {
     "data": {
      "text/html": [
       "<div>\n",
       "<style scoped>\n",
       "    .dataframe tbody tr th:only-of-type {\n",
       "        vertical-align: middle;\n",
       "    }\n",
       "\n",
       "    .dataframe tbody tr th {\n",
       "        vertical-align: top;\n",
       "    }\n",
       "\n",
       "    .dataframe thead th {\n",
       "        text-align: right;\n",
       "    }\n",
       "</style>\n",
       "<table border=\"1\" class=\"dataframe\">\n",
       "  <thead>\n",
       "    <tr style=\"text-align: right;\">\n",
       "      <th></th>\n",
       "      <th>lweight</th>\n",
       "      <th>age</th>\n",
       "      <th>lbph</th>\n",
       "      <th>svi</th>\n",
       "      <th>lcp</th>\n",
       "      <th>gleason</th>\n",
       "      <th>pgg45</th>\n",
       "      <th>lpsa</th>\n",
       "    </tr>\n",
       "    <tr>\n",
       "      <th>lcavol</th>\n",
       "      <th></th>\n",
       "      <th></th>\n",
       "      <th></th>\n",
       "      <th></th>\n",
       "      <th></th>\n",
       "      <th></th>\n",
       "      <th></th>\n",
       "      <th></th>\n",
       "    </tr>\n",
       "  </thead>\n",
       "  <tbody>\n",
       "    <tr>\n",
       "      <th>-0.579818</th>\n",
       "      <td>2.769459</td>\n",
       "      <td>50</td>\n",
       "      <td>-1.386294</td>\n",
       "      <td>0</td>\n",
       "      <td>-1.386294</td>\n",
       "      <td>6</td>\n",
       "      <td>0</td>\n",
       "      <td>-0.430783</td>\n",
       "    </tr>\n",
       "    <tr>\n",
       "      <th>-0.994252</th>\n",
       "      <td>3.319626</td>\n",
       "      <td>58</td>\n",
       "      <td>-1.386294</td>\n",
       "      <td>0</td>\n",
       "      <td>-1.386294</td>\n",
       "      <td>6</td>\n",
       "      <td>0</td>\n",
       "      <td>-0.162519</td>\n",
       "    </tr>\n",
       "    <tr>\n",
       "      <th>-0.510826</th>\n",
       "      <td>2.691243</td>\n",
       "      <td>74</td>\n",
       "      <td>-1.386294</td>\n",
       "      <td>0</td>\n",
       "      <td>-1.386294</td>\n",
       "      <td>7</td>\n",
       "      <td>20</td>\n",
       "      <td>-0.162519</td>\n",
       "    </tr>\n",
       "    <tr>\n",
       "      <th>-1.203973</th>\n",
       "      <td>3.282789</td>\n",
       "      <td>58</td>\n",
       "      <td>-1.386294</td>\n",
       "      <td>0</td>\n",
       "      <td>-1.386294</td>\n",
       "      <td>6</td>\n",
       "      <td>0</td>\n",
       "      <td>-0.162519</td>\n",
       "    </tr>\n",
       "    <tr>\n",
       "      <th>0.751416</th>\n",
       "      <td>3.432373</td>\n",
       "      <td>62</td>\n",
       "      <td>-1.386294</td>\n",
       "      <td>0</td>\n",
       "      <td>-1.386294</td>\n",
       "      <td>6</td>\n",
       "      <td>0</td>\n",
       "      <td>0.371564</td>\n",
       "    </tr>\n",
       "  </tbody>\n",
       "</table>\n",
       "</div>"
      ],
      "text/plain": [
       "            lweight  age      lbph  svi       lcp  gleason  pgg45      lpsa\n",
       "lcavol                                                                     \n",
       "-0.579818  2.769459   50 -1.386294    0 -1.386294        6      0 -0.430783\n",
       "-0.994252  3.319626   58 -1.386294    0 -1.386294        6      0 -0.162519\n",
       "-0.510826  2.691243   74 -1.386294    0 -1.386294        7     20 -0.162519\n",
       "-1.203973  3.282789   58 -1.386294    0 -1.386294        6      0 -0.162519\n",
       " 0.751416  3.432373   62 -1.386294    0 -1.386294        6      0  0.371564"
      ]
     },
     "execution_count": 56,
     "metadata": {},
     "output_type": "execute_result"
    }
   ],
   "source": [
    "df.head()"
   ]
  },
  {
   "cell_type": "markdown",
   "metadata": {},
   "source": [
    "## Standardize the Variables\n",
    "\n",
    "Because the KNN classifier predicts the class of a given test observation by identifying the observations that are nearest to it, the scale of the variables matters. Any variables that are on a large scale will have a much larger effect on the distance between the observations, and hence on the KNN classifier, than variables that are on a small scale."
   ]
  },
  {
   "cell_type": "code",
   "execution_count": 57,
   "metadata": {},
   "outputs": [],
   "source": [
    "from sklearn.preprocessing import StandardScaler"
   ]
  },
  {
   "cell_type": "code",
   "execution_count": 58,
   "metadata": {},
   "outputs": [],
   "source": [
    "scaler = StandardScaler()"
   ]
  },
  {
   "cell_type": "code",
   "execution_count": 59,
   "metadata": {},
   "outputs": [
    {
     "data": {
      "text/plain": [
       "StandardScaler(copy=True, with_mean=True, with_std=True)"
      ]
     },
     "execution_count": 59,
     "metadata": {},
     "output_type": "execute_result"
    }
   ],
   "source": [
    "scaler.fit(df.drop('svi',axis=1))"
   ]
  },
  {
   "cell_type": "code",
   "execution_count": 60,
   "metadata": {},
   "outputs": [],
   "source": [
    "scaled_features = scaler.transform(df.drop('svi',axis=1))"
   ]
  },
  {
   "cell_type": "code",
   "execution_count": 61,
   "metadata": {},
   "outputs": [
    {
     "data": {
      "text/plain": [
       "array([[-2.01663373, -1.87210098, -1.03002898, -0.86765522, -1.04757113,\n",
       "        -0.86895727, -2.53331785],\n",
       "       [-0.72575947, -0.79198919, -1.03002898, -0.86765522, -1.04757113,\n",
       "        -0.86895727, -2.29971238],\n",
       "       [-2.20015441,  1.36823439, -1.03002898, -0.86765522,  0.34440695,\n",
       "        -0.15615511, -2.29971238],\n",
       "       [-0.81219129, -0.79198919, -1.03002898, -0.86765522, -1.04757113,\n",
       "        -0.86895727, -2.29971238],\n",
       "       [-0.46121761, -0.25193329, -1.03002898, -0.86765522, -1.04757113,\n",
       "        -0.86895727, -1.83463099],\n",
       "       [-0.93880639, -1.87210098, -1.03002898, -0.86765522, -1.04757113,\n",
       "        -0.86895727, -1.49161747],\n",
       "       [-0.3646778 ,  0.01809466,  0.35670122, -0.86765522, -1.04757113,\n",
       "        -0.86895727, -1.49161747],\n",
       "       [-0.20984102, -0.79198919,  0.99529051, -0.86765522, -1.04757113,\n",
       "        -0.86895727, -1.4141616 ],\n",
       "       [-0.20984102, -2.2771429 , -1.03002898, -0.86765522, -1.04757113,\n",
       "        -0.86895727, -1.24618021],\n",
       "       [-0.90192675, -0.11691932, -1.03002898, -0.86765522, -1.04757113,\n",
       "        -0.86895727, -1.24618021],\n",
       "       [-0.05819995,  0.15310863, -1.03002898, -0.86765522, -1.04757113,\n",
       "        -0.86895727, -1.05492666],\n",
       "       [-0.07100389, -0.11691932,  0.80827605, -0.86765522, -1.04757113,\n",
       "        -0.86895727, -1.05492666],\n",
       "       [-1.42206859, -0.11691932, -1.03002898, -0.30083707,  0.34440695,\n",
       "         0.20024597, -1.05492666],\n",
       "       [-1.47986344,  0.42313658, -1.03002898, -0.86765522,  0.34440695,\n",
       "        -0.69075673, -0.98428221],\n",
       "       [-0.4385849 , -0.92700316, -1.03002898, -0.1807427 ,  0.34440695,\n",
       "        -0.69075673, -0.94018137],\n",
       "       [-1.33245984,  0.2881226 , -1.03002898, -0.86765522, -1.04757113,\n",
       "        -0.86895727, -0.89820677],\n",
       "       [-0.26497043,  0.8281785 ,  0.79248386, -0.30083707,  0.34440695,\n",
       "         0.20024597, -0.87795465],\n",
       "       [ 0.04790351,  0.2881226 , -1.03002898,  0.39606027, -1.04757113,\n",
       "        -0.86895727, -0.85816274],\n",
       "       [-0.84767487, -3.08722674, -1.03002898, -0.86765522, -1.04757113,\n",
       "        -0.86895727, -0.80135103],\n",
       "       [ 0.46089543,  0.8281785 ,  1.07937567, -0.86765522, -1.04757113,\n",
       "        -0.86895727, -0.76543644],\n",
       "       [-0.4917387 , -0.65697521, -1.03002898, -0.86765522, -1.04757113,\n",
       "        -0.86895727, -0.73094466],\n",
       "       [-0.30009502, -0.52196124,  0.95226146,  1.09806826,  0.34440695,\n",
       "        -0.15615511, -0.71419787],\n",
       "       [-0.59376893, -0.65697521, -0.62277959, -0.86765522, -1.04757113,\n",
       "        -0.86895727, -0.68164068],\n",
       "       [-0.4161657 , -0.11691932,  0.23411435,  0.97627438,  0.34440695,\n",
       "         1.26944921, -0.66580745],\n",
       "       [ 0.09023368,  0.69316453,  1.03860789, -0.86765522, -1.04757113,\n",
       "        -0.86895727, -0.65025697],\n",
       "       [-1.18343728,  0.55815055,  0.13839656, -0.86765522, -1.04757113,\n",
       "        -0.86895727, -0.619965  ],\n",
       "       [ 0.21283186,  0.15310863, -1.03002898, -0.44509826,  0.34440695,\n",
       "         1.62585029, -0.59069151],\n",
       "       [ 0.55616588,  0.42313658,  1.18900155, -0.86765522,  0.34440695,\n",
       "        -0.15615511, -0.57641572],\n",
       "       [-1.17314627,  0.42313658,  0.08507392,  0.16402005,  0.34440695,\n",
       "         1.98225137, -0.54854763],\n",
       "       [-0.59376893,  0.15310863, -1.03002898,  1.29311536, -1.04757113,\n",
       "        -0.86895727, -0.50834947],\n",
       "       [ 1.08218998,  0.15310863,  1.29047369, -0.44509826, -1.04757113,\n",
       "        -0.86895727, -0.48254597],\n",
       "       [ 0.4117698 ,  0.15310863,  1.11160717, -0.86765522, -1.04757113,\n",
       "        -0.86895727, -0.40942861],\n",
       "       [-1.38806321,  0.96319247,  0.80827605, -0.86765522, -1.04757113,\n",
       "        -0.86895727, -0.40942861],\n",
       "       [-0.84767487, -1.33204508, -1.03002898, -0.86765522, -1.04757113,\n",
       "        -0.86895727, -0.39781765],\n",
       "       [-0.96684975, -0.11691932, -1.03002898, -0.44509826, -1.04757113,\n",
       "        -0.86895727, -0.3750503 ],\n",
       "       [ 1.15183145,  0.01809466,  1.43488428, -0.86765522,  0.34440695,\n",
       "        -0.69075673, -0.34197776],\n",
       "       [ 0.0661392 ,  1.23322042, -0.47126026,  1.32103713,  1.73638502,\n",
       "        -0.33435565, -0.27937807],\n",
       "       [-2.94238594,  0.01809466, -1.03002898, -0.86765522,  0.34440695,\n",
       "        -0.33435565, -0.24968869],\n",
       "       [ 1.07038089,  0.55815055,  0.8822505 ,  1.44637892,  0.34440695,\n",
       "         0.37844651, -0.23044356],\n",
       "       [-1.44501572, -1.06201713,  0.5790429 ,  0.01211097,  0.34440695,\n",
       "        -0.69075673, -0.17513581],\n",
       "       [-1.14254072, -0.52196124, -1.03002898, -0.86765522,  3.1283631 ,\n",
       "         1.98225137, -0.15745387],\n",
       "       [ 0.12592139,  0.55815055, -1.03002898, -0.86765522,  0.34440695,\n",
       "        -0.51255619, -0.14874583],\n",
       "       [ 0.55616588, -0.25193329,  1.11787737, -0.1807427 , -1.04757113,\n",
       "        -0.86895727, -0.13158654],\n",
       "       [ 0.62873792, -0.38694727, -1.03002898,  0.71191882,  0.34440695,\n",
       "        -0.65511662, -0.09011178],\n",
       "       [-0.51489464,  0.2881226 ,  1.14240568, -0.1807427 ,  0.34440695,\n",
       "        -0.15615511,  0.0377352 ],\n",
       "       [-0.55400095, -0.38694727,  0.35670122, -0.86765522,  0.34440695,\n",
       "        -0.33435565,  0.06527282],\n",
       "       [ 0.85993606,  2.04330426,  1.23266023,  2.03887464,  3.1283631 ,\n",
       "         2.69505353,  0.07872178],\n",
       "       [ 0.9530385 ,  0.55815055,  1.11787737, -0.1807427 ,  0.34440695,\n",
       "         0.55664705,  0.07872178],\n",
       "       [-0.30718329, -2.81719879, -1.03002898, -0.86765522, -1.04757113,\n",
       "        -0.86895727,  0.09851369],\n",
       "       [-0.14270309,  0.8281785 ,  0.8822505 , -0.44509826, -1.04757113,\n",
       "        -0.86895727,  0.09851369],\n",
       "       [ 0.85561411,  0.55815055, -1.03002898, -0.86765522,  0.34440695,\n",
       "         0.91304813,  0.1553254 ],\n",
       "       [ 1.42161501,  0.01809466,  1.36687051, -0.86765522, -1.04757113,\n",
       "        -0.86895727,  0.17346783],\n",
       "       [ 0.01100041,  0.01809466,  0.96483055,  0.16402005,  0.34440695,\n",
       "         1.62585029,  0.17943223],\n",
       "       [ 1.15563955,  0.55815055,  1.15435171,  1.16912805,  0.34440695,\n",
       "         0.55664705,  0.18535613],\n",
       "       [-0.26497043, -0.65697521, -1.03002898, -0.86765522,  0.34440695,\n",
       "        -0.69075673,  0.1970843 ],\n",
       "       [ 1.52790618,  0.2881226 ,  1.40088236, -0.86765522,  0.34440695,\n",
       "        -0.33435565,  0.2086566 ],\n",
       "       [-1.79233616, -2.2771429 , -1.03002898,  0.48894996,  0.34440695,\n",
       "        -0.72639684,  0.26969337],\n",
       "       [ 0.31848952, -2.00711495,  0.91647239, -0.86765522, -1.04757113,\n",
       "        -0.86895727,  0.27503575],\n",
       "       [ 1.28880091,  0.8281785 ,  0.23411435, -0.86765522,  0.34440695,\n",
       "        -0.15615511,  0.28562317],\n",
       "       [ 0.52151525, -0.38694727,  0.82752319, -0.86765522,  0.34440695,\n",
       "         0.55664705,  0.29086898],\n",
       "       [ 2.10127926,  1.23322042,  1.54225202, -0.86765522, -1.04757113,\n",
       "        -0.86895727,  0.31663434],\n",
       "       [ 0.21283186, -0.11691932,  1.05246539,  1.50170584,  0.34440695,\n",
       "         0.55664705,  0.32673071],\n",
       "       [-0.24414439,  1.09820645, -1.03002898,  1.24908762,  3.1283631 ,\n",
       "         2.51685299,  0.32673071],\n",
       "       [ 0.67590388,  0.2881226 ,  1.32186427,  1.64596703,  0.34440695,\n",
       "         1.26944921,  0.35147113],\n",
       "       [-0.01392702,  0.01809466, -1.03002898, -0.86765522, -1.04757113,\n",
       "        -0.86895727,  0.35147113],\n",
       "       [ 0.48634374, -0.38694727,  0.84625007, -0.1807427 ,  0.34440695,\n",
       "        -0.15615511,  0.35633597],\n",
       "       [ 0.58546452,  0.55815055,  1.16609525,  1.07914887,  0.34440695,\n",
       "         1.62585029,  0.38496775],\n",
       "       [ 0.99008707,  1.09820645,  1.52927559, -0.1807427 ,  0.34440695,\n",
       "        -0.51255619,  0.42173538],\n",
       "       [ 1.82921037,  0.69316453, -1.03002898, -0.86765522, -1.04757113,\n",
       "        -0.86895727,  0.42173538],\n",
       "       [ 2.70166095,  1.09820645,  1.54225202, -0.44509826,  0.34440695,\n",
       "        -0.69075673,  0.43068977],\n",
       "       [-0.08387821, -0.52196124, -1.03002898,  1.07914887,  0.34440695,\n",
       "         1.26944921,  0.46561391],\n",
       "       [-0.67539077,  1.77327632,  1.14240568, -0.86765522,  0.34440695,\n",
       "         0.02204543,  0.48675094],\n",
       "       [ 0.46089543,  0.69316453, -1.03002898,  0.28936185,  0.34440695,\n",
       "        -0.15615511,  0.50329884],\n",
       "       [-0.92029383, -0.52196124,  0.23411435,  0.97627438,  3.1283631 ,\n",
       "         2.33865245,  0.51953812],\n",
       "       [ 0.51652226,  0.69316453, -1.03002898,  1.50170584,  0.34440695,\n",
       "        -0.15615511,  0.69391731],\n",
       "       [-0.85663081,  0.55815055, -0.1050703 ,  1.8689359 ,  0.34440695,\n",
       "         0.91304813,  0.74816076],\n",
       "       [ 1.88843647,  1.09820645,  1.40088236,  0.48894996,  0.34440695,\n",
       "         1.26944921,  0.79630031],\n",
       "       [ 1.70306454,  1.90829029,  1.54225202, -0.86765522,  0.34440695,\n",
       "        -0.51255619,  0.83354436],\n",
       "       [-0.10984037,  0.69316453, -1.03002898,  1.98656829,  0.34440695,\n",
       "         1.62585029,  0.85295798],\n",
       "       [ 0.45577339, -0.11691932, -1.03002898,  0.39606027,  0.34440695,\n",
       "         0.91304813,  0.90097779],\n",
       "       [-1.31058264,  0.2881226 ,  0.31819952,  0.28936185,  0.34440695,\n",
       "         0.55664705,  0.90356948],\n",
       "       [-0.3646778 , -0.92700316,  0.23411435,  1.80201365,  0.34440695,\n",
       "         1.26944921,  0.91641341],\n",
       "       [ 0.60960358,  1.77327632, -0.43510323,  0.5312501 ,  0.34440695,\n",
       "         0.20024597,  0.94648734],\n",
       "       [ 0.49140009,  0.15310863,  0.7030969 ,  1.38643629,  3.1283631 ,\n",
       "         1.62585029,  0.95140024],\n",
       "       [ 0.1899692 , -0.52196124,  1.10527971,  0.71191882,  0.34440695,\n",
       "         0.20024597,  0.96597463],\n",
       "       [-0.25800887,  0.01809466, -1.03002898,  1.80201365,  0.34440695,\n",
       "         1.26944921,  1.00368795],\n",
       "       [ 0.24110046, -0.79198919,  1.06605117, -0.86765522, -1.04757113,\n",
       "        -0.86895727,  1.04644915],\n",
       "       [-0.60986946, -0.25193329, -1.03002898,  0.34468877,  0.34440695,\n",
       "         0.20024597,  1.07454209],\n",
       "       [ 2.55541175,  0.15310863, -1.03002898,  1.90019713,  0.34440695,\n",
       "         1.26944921,  1.31139383],\n",
       "       [ 0.15525053,  1.63826234,  0.5790429 ,  0.71191882,  0.34440695,\n",
       "         1.80405083,  1.31945687],\n",
       "       [ 1.10952005,  0.55815055, -1.03002898, -0.86765522, -1.04757113,\n",
       "        -0.86895727,  1.3509826 ],\n",
       "       [ 0.11408649, -0.38694727,  0.86448408, -0.86765522,  0.34440695,\n",
       "        -0.33435565,  1.43784081],\n",
       "       [ 0.58060762,  0.55815055, -1.03002898,  1.07914887,  0.34440695,\n",
       "         1.26944921,  1.66041493],\n",
       "       [ 0.62873792, -2.68218482, -1.03002898,  1.68826718,  0.34440695,\n",
       "         0.55664705,  1.92104373],\n",
       "       [-0.54612667, -1.60207303, -1.03002898,  1.90019713,  0.34440695,\n",
       "        -0.51255619,  2.32046525],\n",
       "       [ 0.34014147,  0.55815055,  1.0100326 ,  1.24908762,  0.34440695,\n",
       "         1.98225137,  2.61164875],\n",
       "       [ 0.81196061,  0.55815055,  0.23411435,  2.21673517,  0.34440695,\n",
       "        -0.15615511,  2.70345173]])"
      ]
     },
     "execution_count": 61,
     "metadata": {},
     "output_type": "execute_result"
    }
   ],
   "source": [
    "scaled_features"
   ]
  },
  {
   "cell_type": "code",
   "execution_count": 62,
   "metadata": {},
   "outputs": [
    {
     "data": {
      "text/html": [
       "<div>\n",
       "<style scoped>\n",
       "    .dataframe tbody tr th:only-of-type {\n",
       "        vertical-align: middle;\n",
       "    }\n",
       "\n",
       "    .dataframe tbody tr th {\n",
       "        vertical-align: top;\n",
       "    }\n",
       "\n",
       "    .dataframe thead th {\n",
       "        text-align: right;\n",
       "    }\n",
       "</style>\n",
       "<table border=\"1\" class=\"dataframe\">\n",
       "  <thead>\n",
       "    <tr style=\"text-align: right;\">\n",
       "      <th></th>\n",
       "      <th>lweight</th>\n",
       "      <th>age</th>\n",
       "      <th>lbph</th>\n",
       "      <th>svi</th>\n",
       "      <th>lcp</th>\n",
       "      <th>gleason</th>\n",
       "      <th>pgg45</th>\n",
       "    </tr>\n",
       "  </thead>\n",
       "  <tbody>\n",
       "    <tr>\n",
       "      <th>0</th>\n",
       "      <td>-2.016634</td>\n",
       "      <td>-1.872101</td>\n",
       "      <td>-1.030029</td>\n",
       "      <td>-0.867655</td>\n",
       "      <td>-1.047571</td>\n",
       "      <td>-0.868957</td>\n",
       "      <td>-2.533318</td>\n",
       "    </tr>\n",
       "    <tr>\n",
       "      <th>1</th>\n",
       "      <td>-0.725759</td>\n",
       "      <td>-0.791989</td>\n",
       "      <td>-1.030029</td>\n",
       "      <td>-0.867655</td>\n",
       "      <td>-1.047571</td>\n",
       "      <td>-0.868957</td>\n",
       "      <td>-2.299712</td>\n",
       "    </tr>\n",
       "    <tr>\n",
       "      <th>2</th>\n",
       "      <td>-2.200154</td>\n",
       "      <td>1.368234</td>\n",
       "      <td>-1.030029</td>\n",
       "      <td>-0.867655</td>\n",
       "      <td>0.344407</td>\n",
       "      <td>-0.156155</td>\n",
       "      <td>-2.299712</td>\n",
       "    </tr>\n",
       "    <tr>\n",
       "      <th>3</th>\n",
       "      <td>-0.812191</td>\n",
       "      <td>-0.791989</td>\n",
       "      <td>-1.030029</td>\n",
       "      <td>-0.867655</td>\n",
       "      <td>-1.047571</td>\n",
       "      <td>-0.868957</td>\n",
       "      <td>-2.299712</td>\n",
       "    </tr>\n",
       "    <tr>\n",
       "      <th>4</th>\n",
       "      <td>-0.461218</td>\n",
       "      <td>-0.251933</td>\n",
       "      <td>-1.030029</td>\n",
       "      <td>-0.867655</td>\n",
       "      <td>-1.047571</td>\n",
       "      <td>-0.868957</td>\n",
       "      <td>-1.834631</td>\n",
       "    </tr>\n",
       "  </tbody>\n",
       "</table>\n",
       "</div>"
      ],
      "text/plain": [
       "    lweight       age      lbph       svi       lcp   gleason     pgg45\n",
       "0 -2.016634 -1.872101 -1.030029 -0.867655 -1.047571 -0.868957 -2.533318\n",
       "1 -0.725759 -0.791989 -1.030029 -0.867655 -1.047571 -0.868957 -2.299712\n",
       "2 -2.200154  1.368234 -1.030029 -0.867655  0.344407 -0.156155 -2.299712\n",
       "3 -0.812191 -0.791989 -1.030029 -0.867655 -1.047571 -0.868957 -2.299712\n",
       "4 -0.461218 -0.251933 -1.030029 -0.867655 -1.047571 -0.868957 -1.834631"
      ]
     },
     "execution_count": 62,
     "metadata": {},
     "output_type": "execute_result"
    }
   ],
   "source": [
    "df_feat = pd.DataFrame(scaled_features,columns=df.columns[:-1])\n",
    "df_feat.head()"
   ]
  },
  {
   "cell_type": "markdown",
   "metadata": {},
   "source": [
    "## Train Test Split"
   ]
  },
  {
   "cell_type": "code",
   "execution_count": 63,
   "metadata": {},
   "outputs": [],
   "source": [
    "from sklearn.model_selection import train_test_split"
   ]
  },
  {
   "cell_type": "code",
   "execution_count": 64,
   "metadata": {},
   "outputs": [],
   "source": [
    "X_train, X_test, y_train, y_test = train_test_split(scaled_features,df['svi'],\n",
    "                                                    test_size=0.30)"
   ]
  },
  {
   "cell_type": "markdown",
   "metadata": {},
   "source": [
    "## Using KNN\n",
    "\n",
    "start with k=1."
   ]
  },
  {
   "cell_type": "code",
   "execution_count": 65,
   "metadata": {},
   "outputs": [],
   "source": [
    "from sklearn.neighbors import KNeighborsClassifier"
   ]
  },
  {
   "cell_type": "code",
   "execution_count": 66,
   "metadata": {},
   "outputs": [],
   "source": [
    "knn = KNeighborsClassifier(n_neighbors=1)"
   ]
  },
  {
   "cell_type": "code",
   "execution_count": null,
   "metadata": {},
   "outputs": [],
   "source": []
  },
  {
   "cell_type": "code",
   "execution_count": 67,
   "metadata": {},
   "outputs": [
    {
     "data": {
      "text/plain": [
       "KNeighborsClassifier(algorithm='auto', leaf_size=30, metric='minkowski',\n",
       "                     metric_params=None, n_jobs=None, n_neighbors=1, p=2,\n",
       "                     weights='uniform')"
      ]
     },
     "execution_count": 67,
     "metadata": {},
     "output_type": "execute_result"
    }
   ],
   "source": [
    "knn.fit(X_train,y_train)"
   ]
  },
  {
   "cell_type": "code",
   "execution_count": 69,
   "metadata": {},
   "outputs": [],
   "source": [
    "pred = knn.predict(X_test)"
   ]
  },
  {
   "cell_type": "markdown",
   "metadata": {},
   "source": [
    "## Predictions and Evaluations\n",
    "\n",
    "KNN model!"
   ]
  },
  {
   "cell_type": "code",
   "execution_count": 70,
   "metadata": {},
   "outputs": [],
   "source": [
    "from sklearn.metrics import classification_report,confusion_matrix"
   ]
  },
  {
   "cell_type": "code",
   "execution_count": 71,
   "metadata": {},
   "outputs": [
    {
     "name": "stdout",
     "output_type": "stream",
     "text": [
      "[[19  3]\n",
      " [ 5  3]]\n"
     ]
    }
   ],
   "source": [
    "print(confusion_matrix(y_test,pred))"
   ]
  },
  {
   "cell_type": "code",
   "execution_count": 72,
   "metadata": {},
   "outputs": [
    {
     "name": "stdout",
     "output_type": "stream",
     "text": [
      "              precision    recall  f1-score   support\n",
      "\n",
      "           0       0.79      0.86      0.83        22\n",
      "           1       0.50      0.38      0.43         8\n",
      "\n",
      "    accuracy                           0.73        30\n",
      "   macro avg       0.65      0.62      0.63        30\n",
      "weighted avg       0.71      0.73      0.72        30\n",
      "\n"
     ]
    }
   ],
   "source": [
    "print(classification_report(y_test,pred))"
   ]
  },
  {
   "cell_type": "markdown",
   "metadata": {},
   "source": [
    "## Choosing a K Value\n",
    "\n",
    "using the elbow method to pick a good K Value:"
   ]
  },
  {
   "cell_type": "code",
   "execution_count": 73,
   "metadata": {},
   "outputs": [],
   "source": [
    "error_rate = []\n",
    "\n",
    "# Will take some time\n",
    "for i in range(1,40):\n",
    "    \n",
    "    knn = KNeighborsClassifier(n_neighbors=i)\n",
    "    knn.fit(X_train,y_train)\n",
    "    pred_i = knn.predict(X_test)\n",
    "    error_rate.append(np.mean(pred_i != y_test))"
   ]
  },
  {
   "cell_type": "code",
   "execution_count": 74,
   "metadata": {},
   "outputs": [
    {
     "data": {
      "text/plain": [
       "Text(0, 0.5, 'Error Rate')"
      ]
     },
     "execution_count": 74,
     "metadata": {},
     "output_type": "execute_result"
    },
    {
     "data": {
      "image/png": "[encoded data removed]",
      "text/plain": [
       "<Figure size 720x432 with 1 Axes>"
      ]
     },
     "metadata": {
      "needs_background": "light"
     },
     "output_type": "display_data"
    }
   ],
   "source": [
    "plt.figure(figsize=(10,6))\n",
    "plt.plot(range(1,40),error_rate,color='blue', linestyle='dashed', marker='o',\n",
    "         markerfacecolor='red', markersize=10)\n",
    "plt.title('Error Rate vs. K Value')\n",
    "plt.xlabel('K')\n",
    "plt.ylabel('Error Rate')"
   ]
  },
  {
   "cell_type": "markdown",
   "metadata": {},
   "source": [
    "Here we can see that that after arouns K>23 the error rate just tends to hover around 0.06-0.05 Let's retrain the model with that and check the classification report!"
   ]
  },
  {
   "cell_type": "code",
   "execution_count": 75,
   "metadata": {},
   "outputs": [
    {
     "name": "stdout",
     "output_type": "stream",
     "text": [
      "WITH K=1\n",
      "\n",
      "\n",
      "[[19  3]\n",
      " [ 5  3]]\n",
      "\n",
      "\n",
      "              precision    recall  f1-score   support\n",
      "\n",
      "           0       0.79      0.86      0.83        22\n",
      "           1       0.50      0.38      0.43         8\n",
      "\n",
      "    accuracy                           0.73        30\n",
      "   macro avg       0.65      0.62      0.63        30\n",
      "weighted avg       0.71      0.73      0.72        30\n",
      "\n"
     ]
    }
   ],
   "source": [
    "# A QUICK COMPARISON TO OUR ORIGINAL K=1\n",
    "knn = KNeighborsClassifier(n_neighbors=1)\n",
    "\n",
    "knn.fit(X_train,y_train)\n",
    "pred = knn.predict(X_test)\n",
    "\n",
    "print('WITH K=1')\n",
    "print('\\n')\n",
    "print(confusion_matrix(y_test,pred))\n",
    "print('\\n')\n",
    "print(classification_report(y_test,pred))"
   ]
  },
  {
   "cell_type": "code",
   "execution_count": 76,
   "metadata": {},
   "outputs": [
    {
     "name": "stdout",
     "output_type": "stream",
     "text": [
      "WITH K=23\n",
      "\n",
      "\n",
      "[[21  1]\n",
      " [ 7  1]]\n",
      "\n",
      "\n",
      "              precision    recall  f1-score   support\n",
      "\n",
      "           0       0.75      0.95      0.84        22\n",
      "           1       0.50      0.12      0.20         8\n",
      "\n",
      "    accuracy                           0.73        30\n",
      "   macro avg       0.62      0.54      0.52        30\n",
      "weighted avg       0.68      0.73      0.67        30\n",
      "\n"
     ]
    }
   ],
   "source": [
    "# NOW WITH K=23\n",
    "knn = KNeighborsClassifier(n_neighbors=23)\n",
    "\n",
    "knn.fit(X_train,y_train)\n",
    "pred = knn.predict(X_test)\n",
    "\n",
    "print('WITH K=23')\n",
    "print('\\n')\n",
    "print(confusion_matrix(y_test,pred))\n",
    "print('\\n')\n",
    "print(classification_report(y_test,pred))"
   ]
  },
  {
   "cell_type": "markdown",
   "metadata": {},
   "source": []
  },
  {
   "cell_type": "code",
   "execution_count": null,
   "metadata": {},
   "outputs": [],
   "source": []
  }
 ],
 "metadata": {
  "kernelspec": {
   "display_name": "Python 3",
   "language": "python",
   "name": "python3"
  },
  "language_info": {
   "codemirror_mode": {
    "name": "ipython",
    "version": 3
   },
   "file_extension": ".py",
   "mimetype": "text/x-python",
   "name": "python",
   "nbconvert_exporter": "python",
   "pygments_lexer": "ipython3",
   "version": "3.7.6"
  }
 },
 "nbformat": 4,
 "nbformat_minor": 1
}
